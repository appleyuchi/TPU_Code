{
  "nbformat": 4,
  "nbformat_minor": 0,
  "metadata": {
    "accelerator": "TPU",
    "colab": {
      "name": "“Keras Fashion MNIST”的副本",
      "provenance": [],
      "collapsed_sections": [],
      "toc_visible": true,
      "include_colab_link": true
    },
    "kernelspec": {
      "name": "python3",
      "display_name": "Python 3"
    }
  },
  "cells": [
    {
      "cell_type": "markdown",
      "metadata": {
        "id": "view-in-github",
        "colab_type": "text"
      },
      "source": [
        "<a href=\"https://colab.research.google.com/github/appleyuchi/TPU_GPU_Code/blob/master/Keras_Fashion_MNIST%E8%87%AA%E5%B7%B1%E6%B3%A8%E9%87%8A%E7%89%88%E6%9C%AC.ipynb\" target=\"_parent\"><img src=\"https://colab.research.google.com/assets/colab-badge.svg\" alt=\"Open In Colab\"/></a>"
      ]
    },
    {
      "cell_type": "markdown",
      "metadata": {
        "colab_type": "text",
        "id": "N6ZDpd9XzFeN"
      },
      "source": [
        "##### Copyright 2018 The TensorFlow Hub Authors.\n",
        "\n",
        "Licensed under the Apache License, Version 2.0 (the \"License\");"
      ]
    },
    {
      "cell_type": "code",
      "metadata": {
        "cellView": "form",
        "colab_type": "code",
        "id": "KUu4vOt5zI9d",
        "colab": {}
      },
      "source": [
        "# Copyright 2018 The TensorFlow Hub Authors. All Rights Reserved.\n",
        "#\n",
        "# Licensed under the Apache License, Version 2.0 (the \"License\");\n",
        "# you may not use this file except in compliance with the License.\n",
        "# You may obtain a copy of the License at\n",
        "#\n",
        "#     http://www.apache.org/licenses/LICENSE-2.0\n",
        "#\n",
        "# Unless required by applicable law or agreed to in writing, software\n",
        "# distributed under the License is distributed on an \"AS IS\" BASIS,\n",
        "# WITHOUT WARRANTIES OR CONDITIONS OF ANY KIND, either express or implied.\n",
        "# See the License for the specific language governing permissions and\n",
        "# limitations under the License.\n",
        "# =============================================================================="
      ],
      "execution_count": 0,
      "outputs": []
    },
    {
      "cell_type": "markdown",
      "metadata": {
        "colab_type": "text",
        "id": "edfbxDDh2AEs"
      },
      "source": [
        "## Fashion MNIST with Keras and TPUs"
      ]
    },
    {
      "cell_type": "markdown",
      "metadata": {
        "colab_type": "text",
        "id": "RNo1Vfghpa8j"
      },
      "source": [
        "## Overview\n",
        "\n",
        "In this example, you can try out using tf.keras and Cloud TPUs to train a model on the fashion MNIST dataset. The model trains for 10 epochs on Cloud TPU and takes approximately 2 minutes to run.\n",
        "\n",
        "This notebook is hosted on GitHub. To view it in its original repository, after opening the notebook, select **File > View on GitHub**."
      ]
    },
    {
      "cell_type": "markdown",
      "metadata": {
        "colab_type": "text",
        "id": "dgAHfQtuhddd"
      },
      "source": [
        "## Learning objectives\n",
        "\n",
        "In this Colab, you will learn how to:\n",
        "*   Code for a standard conv-net that has 3 layers with drop-out and batch normalization between each layer in Keras.\n",
        "*   Create and compile the model under a distribution strategy in order ot use TPUs.\n",
        "*   Run a prediction to see how well the model can predict fashion categories and output the result."
      ]
    },
    {
      "cell_type": "markdown",
      "metadata": {
        "colab_type": "text",
        "id": "QrprJD-R-410"
      },
      "source": [
        "## Instructions"
      ]
    },
    {
      "cell_type": "markdown",
      "metadata": {
        "colab_type": "text",
        "id": "_I0RdnOSkNmi"
      },
      "source": [
        "<h3>  &nbsp;&nbsp;Train on TPU&nbsp;&nbsp; <a href=\"https://cloud.google.com/tpu/\"><img valign=\"middle\" src=\"https://raw.githubusercontent.com/GoogleCloudPlatform/tensorflow-without-a-phd/master/tensorflow-rl-pong/images/tpu-hexagon.png\" width=\"50\"></a></h3>\n",
        "\n",
        "1. On the main menu, click Runtime and select **Change runtime type**. Set \"TPU\" as the hardware accelerator.\n",
        "1. Click Runtime again and select **Runtime > Run All**. You can also run the cells manually with Shift-ENTER. "
      ]
    },
    {
      "cell_type": "markdown",
      "metadata": {
        "id": "Hy1jH30g0GAq",
        "colab_type": "text"
      },
      "source": [
        ""
      ]
    },
    {
      "cell_type": "markdown",
      "metadata": {
        "colab_type": "text",
        "id": "5eEM-XOvURoU"
      },
      "source": [
        "TPUs are located in Google Cloud, for optimal performance, they read data directly from Google Cloud Storage (GCS)"
      ]
    },
    {
      "cell_type": "markdown",
      "metadata": {
        "colab_type": "text",
        "id": "Lvo0t7XVIkWZ"
      },
      "source": [
        "## Data, model, and training"
      ]
    },
    {
      "cell_type": "markdown",
      "metadata": {
        "colab_type": "text",
        "id": "MICrRv8rmXVq"
      },
      "source": [
        "Begin by downloading the fashion MNIST dataset using `tf.keras.datasets`, as shown below."
      ]
    },
    {
      "cell_type": "code",
      "metadata": {
        "colab_type": "code",
        "id": "Zo-Yk6LFGfSf",
        "outputId": "89a93ea5-e62a-4915-d62d-4337e68b9cf0",
        "colab": {
          "base_uri": "https://localhost:8080/",
          "height": 34
        }
      },
      "source": [
        "import tensorflow as tf\n",
        "import numpy as np\n",
        "\n",
        "import os, re, time, json\n",
        "import PIL.Image, PIL.ImageFont, PIL.ImageDraw\n",
        "import numpy as np\n",
        "import tensorflow as tf\n",
        "from matplotlib import pyplot as plt\n",
        "print(\"Tensorflow version \" + tf.__version__)\n",
        "import pandas as pd\n",
        "\n",
        "np.set_printoptions(threshold=2000)#全部输出 \n",
        "pd.set_option('display.max_colwidth',2000)#全部输出 \n",
        "pd.set_option('max_colwidth',2000)\n",
        "pd.set_option('display.max_rows',None)\n",
        "pd.set_option('display.max_columns',None)\n",
        "\n",
        "\n",
        "import distutils\n",
        "if distutils.version.LooseVersion(tf.__version__) < '1.14':\n",
        "    raise Exception('This notebook is compatible with TensorFlow 1.14 or higher, for TensorFlow 1.13 or lower please use the previous version at https://github.com/tensorflow/tpu/blob/r1.13/tools/colab/fashion_mnist.ipynb')\n",
        "\n",
        "#获取train和validation\n",
        "(x_train, y_train), (x_test, y_test) = tf.keras.datasets.fashion_mnist.load_data()\n",
        "\n",
        "#增加一个张量维度\n",
        "# add empty color dimension\n",
        "x_train = np.expand_dims(x_train, -1)\n",
        "x_test  = np.expand_dims(x_test,  -1)\n",
        "\n",
        "# 根据下面笔记中的记载\n",
        "# https://blog.csdn.net/appleyuchi/article/details/102000544\n",
        "# tensorflow默认channel在后面，\n",
        "# 所以上面增加的是通道维度\n",
        "# 图像是4D张量（samples,height,width,channels）"
      ],
      "execution_count": 0,
      "outputs": [
        {
          "output_type": "stream",
          "text": [
            "Tensorflow version 1.14.0\n"
          ],
          "name": "stdout"
        }
      ]
    },
    {
      "cell_type": "markdown",
      "metadata": {
        "colab_type": "text",
        "id": "Hgc2FZKVMx15"
      },
      "source": [
        "### Define the model\n",
        "\n",
        "The following example uses a standard conv-net that has 3 layers with drop-out and batch normalization between each layer."
      ]
    },
    {
      "cell_type": "code",
      "metadata": {
        "colab_type": "code",
        "id": "W7gMbs70GxA7",
        "colab": {}
      },
      "source": [
        "# 神经网络结构\n",
        "def create_model():\n",
        "  model = tf.keras.models.Sequential()\n",
        "  model.add(tf.keras.layers.BatchNormalization(input_shape=x_train.shape[1:]))\n",
        "  model.add(tf.keras.layers.Conv2D(64, (5, 5), padding='same', activation='elu'))\n",
        "  model.add(tf.keras.layers.MaxPooling2D(pool_size=(2, 2), strides=(2,2)))\n",
        "  model.add(tf.keras.layers.Dropout(0.25))\n",
        "\n",
        "  model.add(tf.keras.layers.BatchNormalization(input_shape=x_train.shape[1:]))\n",
        "  model.add(tf.keras.layers.Conv2D(128, (5, 5), padding='same', activation='elu'))\n",
        "  model.add(tf.keras.layers.MaxPooling2D(pool_size=(2, 2)))\n",
        "  model.add(tf.keras.layers.Dropout(0.25))\n",
        "\n",
        "  model.add(tf.keras.layers.BatchNormalization(input_shape=x_train.shape[1:]))\n",
        "  model.add(tf.keras.layers.Conv2D(256, (5, 5), padding='same', activation='elu'))\n",
        "  model.add(tf.keras.layers.MaxPooling2D(pool_size=(2, 2), strides=(2,2)))\n",
        "  model.add(tf.keras.layers.Dropout(0.25))\n",
        "\n",
        "  model.add(tf.keras.layers.Flatten())\n",
        "  model.add(tf.keras.layers.Dense(256))\n",
        "  model.add(tf.keras.layers.Activation('elu'))\n",
        "  model.add(tf.keras.layers.Dropout(0.5))\n",
        "  model.add(tf.keras.layers.Dense(10))\n",
        "  model.add(tf.keras.layers.Activation('softmax'))\n",
        "  return model"
      ],
      "execution_count": 0,
      "outputs": []
    },
    {
      "cell_type": "markdown",
      "metadata": {
        "colab_type": "text",
        "id": "xLeZATVaNAnE"
      },
      "source": [
        "### Train on the TPU\n",
        "\n",
        "To begin training, construct the model on the TPU and then compile it."
      ]
    },
    {
      "cell_type": "code",
      "metadata": {
        "colab_type": "code",
        "id": "pWEYmd_hIWg8",
        "outputId": "af5029de-5cb3-4909-9c0d-ad9f5e7bfb2c",
        "colab": {
          "base_uri": "https://localhost:8080/",
          "height": 1000
        }
      },
      "source": [
        "import os\n",
        "\n",
        "resolver = tf.contrib.cluster_resolver.TPUClusterResolver('grpc://' + os.environ['COLAB_TPU_ADDR'])\n",
        "tf.contrib.distribute.initialize_tpu_system(resolver)\n",
        "strategy = tf.contrib.distribute.TPUStrategy(resolver)\n",
        "\n",
        "with strategy.scope():\n",
        "  model = create_model()\n",
        "  model.compile(\n",
        "      optimizer=tf.keras.optimizers.Adam(learning_rate=1e-3, ),\n",
        "      loss='sparse_categorical_crossentropy',\n",
        "      metrics=['sparse_categorical_accuracy'])\n",
        "\n",
        "model.fit(\n",
        "    x_train.astype(np.float32), y_train.astype(np.float32),\n",
        "    epochs=17,\n",
        "    steps_per_epoch=60,\n",
        "    validation_data=(x_test.astype(np.float32), y_test.astype(np.float32)),\n",
        "    validation_freq=17\n",
        ")\n",
        "\n",
        "model.save_weights('./fashion_mnist.h5', overwrite=True)"
      ],
      "execution_count": 0,
      "outputs": [
        {
          "output_type": "stream",
          "text": [
            "WARNING:tensorflow:\n",
            "The TensorFlow contrib module will not be included in TensorFlow 2.0.\n",
            "For more information, please see:\n",
            "  * https://github.com/tensorflow/community/blob/master/rfcs/20180907-contrib-sunset.md\n",
            "  * https://github.com/tensorflow/addons\n",
            "  * https://github.com/tensorflow/io (for I/O related ops)\n",
            "If you depend on functionality not listed there, please file an issue.\n",
            "\n",
            "INFO:tensorflow:Initializing the TPU system.\n",
            "INFO:tensorflow:Finished initializing TPU system.\n",
            "INFO:tensorflow:Querying Tensorflow master (grpc://10.65.28.98:8470) for TPU system metadata.\n",
            "INFO:tensorflow:Found TPU system:\n",
            "INFO:tensorflow:*** Num TPU Cores: 8\n",
            "INFO:tensorflow:*** Num TPU Workers: 1\n",
            "INFO:tensorflow:*** Num TPU Cores Per Worker: 8\n",
            "INFO:tensorflow:*** Available Device: _DeviceAttributes(/job:worker/replica:0/task:0/device:CPU:0, CPU, -1, 9485688305093099524)\n",
            "INFO:tensorflow:*** Available Device: _DeviceAttributes(/job:worker/replica:0/task:0/device:TPU:0, TPU, 17179869184, 3351285766462313011)\n",
            "INFO:tensorflow:*** Available Device: _DeviceAttributes(/job:worker/replica:0/task:0/device:TPU:1, TPU, 17179869184, 1865223797580410762)\n",
            "INFO:tensorflow:*** Available Device: _DeviceAttributes(/job:worker/replica:0/task:0/device:TPU:2, TPU, 17179869184, 4960826798670772496)\n",
            "INFO:tensorflow:*** Available Device: _DeviceAttributes(/job:worker/replica:0/task:0/device:TPU:3, TPU, 17179869184, 14843952321855537645)\n",
            "INFO:tensorflow:*** Available Device: _DeviceAttributes(/job:worker/replica:0/task:0/device:TPU:4, TPU, 17179869184, 14846178076720108770)\n",
            "INFO:tensorflow:*** Available Device: _DeviceAttributes(/job:worker/replica:0/task:0/device:TPU:5, TPU, 17179869184, 9520908665628386399)\n",
            "INFO:tensorflow:*** Available Device: _DeviceAttributes(/job:worker/replica:0/task:0/device:TPU:6, TPU, 17179869184, 11102993071562567227)\n",
            "INFO:tensorflow:*** Available Device: _DeviceAttributes(/job:worker/replica:0/task:0/device:TPU:7, TPU, 17179869184, 4140528178865317828)\n",
            "INFO:tensorflow:*** Available Device: _DeviceAttributes(/job:worker/replica:0/task:0/device:TPU_SYSTEM:0, TPU_SYSTEM, 8589934592, 6267650624458003569)\n",
            "INFO:tensorflow:*** Available Device: _DeviceAttributes(/job:worker/replica:0/task:0/device:XLA_CPU:0, XLA_CPU, 17179869184, 17223241559414368361)\n",
            "WARNING:tensorflow:From /usr/local/lib/python3.6/dist-packages/tensorflow/python/ops/init_ops.py:1251: calling VarianceScaling.__init__ (from tensorflow.python.ops.init_ops) with dtype is deprecated and will be removed in a future version.\n",
            "Instructions for updating:\n",
            "Call initializer instance with the dtype argument instead of passing it to the constructor\n",
            "Epoch 1/17\n",
            "WARNING:tensorflow:From /usr/local/lib/python3.6/dist-packages/tensorflow/python/keras/engine/training_distributed.py:411: Variable.load (from tensorflow.python.ops.variables) is deprecated and will be removed in a future version.\n",
            "Instructions for updating:\n",
            "Prefer Variable.assign which has equivalent behavior in 2.X.\n",
            "60/60 [==============================] - 4s 69ms/step - loss: 1.1978 - sparse_categorical_accuracy: 0.6716\n",
            "Epoch 2/17\n",
            "60/60 [==============================] - 1s 23ms/step - loss: 0.5396 - sparse_categorical_accuracy: 0.8174\n",
            "Epoch 3/17\n",
            "60/60 [==============================] - 1s 22ms/step - loss: 0.4397 - sparse_categorical_accuracy: 0.8488\n",
            "Epoch 4/17\n",
            "60/60 [==============================] - 1s 23ms/step - loss: 0.3852 - sparse_categorical_accuracy: 0.8662\n",
            "Epoch 5/17\n",
            "60/60 [==============================] - 1s 23ms/step - loss: 0.3436 - sparse_categorical_accuracy: 0.8788\n",
            "Epoch 6/17\n",
            "60/60 [==============================] - 1s 23ms/step - loss: 0.3204 - sparse_categorical_accuracy: 0.8861\n",
            "Epoch 7/17\n",
            "60/60 [==============================] - 1s 23ms/step - loss: 0.2922 - sparse_categorical_accuracy: 0.8939\n",
            "Epoch 8/17\n",
            "60/60 [==============================] - 1s 23ms/step - loss: 0.2671 - sparse_categorical_accuracy: 0.9031\n",
            "Epoch 9/17\n",
            "60/60 [==============================] - 1s 23ms/step - loss: 0.2530 - sparse_categorical_accuracy: 0.9069\n",
            "Epoch 10/17\n",
            "60/60 [==============================] - 1s 23ms/step - loss: 0.2411 - sparse_categorical_accuracy: 0.9114\n",
            "Epoch 11/17\n",
            "60/60 [==============================] - 1s 23ms/step - loss: 0.2210 - sparse_categorical_accuracy: 0.9182\n",
            "Epoch 12/17\n",
            "60/60 [==============================] - 1s 23ms/step - loss: 0.2077 - sparse_categorical_accuracy: 0.9233\n",
            "Epoch 13/17\n",
            "60/60 [==============================] - 1s 23ms/step - loss: 0.1947 - sparse_categorical_accuracy: 0.9270\n",
            "Epoch 14/17\n",
            "60/60 [==============================] - 1s 23ms/step - loss: 0.1824 - sparse_categorical_accuracy: 0.9316\n",
            "Epoch 15/17\n",
            "60/60 [==============================] - 1s 23ms/step - loss: 0.1747 - sparse_categorical_accuracy: 0.9339\n",
            "Epoch 16/17\n",
            "60/60 [==============================] - 1s 23ms/step - loss: 0.1672 - sparse_categorical_accuracy: 0.9374\n",
            "Epoch 17/17\n",
            "58/60 [============================>.] - ETA: 0s - loss: 0.1593 - sparse_categorical_accuracy: 0.9406INFO:tensorflow:Running validation at fit epoch: 16\n",
            "10/10 [==============================] - 3s 339ms/step\n",
            "10/10 [==============================] - 3s 339ms/step\n",
            "60/60 [==============================] - 7s 111ms/step - loss: 0.1590 - sparse_categorical_accuracy: 0.9407 - val_loss: 0.2286 - val_sparse_categorical_accuracy: 0.9240\n"
          ],
          "name": "stdout"
        }
      ]
    },
    {
      "cell_type": "markdown",
      "metadata": {
        "colab_type": "text",
        "id": "ESL6ltQTMm05"
      },
      "source": [
        "### Check the results (inference)\n",
        "\n",
        "Now that you are done training, see how well the model can predict fashion categories!"
      ]
    },
    {
      "cell_type": "code",
      "metadata": {
        "colab_type": "code",
        "id": "SaYPv_aKId2d",
        "outputId": "f5dbd0e8-69e2-4221-95b7-77a63326aa32",
        "colab": {
          "base_uri": "https://localhost:8080/",
          "height": 1000
        }
      },
      "source": [
        "LABEL_NAMES = ['t_shirt', 'trouser', 'pullover',\n",
        "               'dress', 'coat', 'sandal', 'shirt', \n",
        "               'sneaker', 'bag', 'ankle_boots']\n",
        "#总共１０个类别\n",
        "\n",
        "#上面是使用TPU模型训练,下面是使用CPU模型\n",
        "\n",
        "cpu_model = create_model()\n",
        "cpu_model.load_weights('./fashion_mnist.h5')#加载模型\n",
        "\n",
        "from matplotlib import pyplot\n",
        "%matplotlib inline\n",
        "\n",
        "print(\"images.dim\",x_test[:16].shape)\n",
        "def plot_predictions(images, predictions):\n",
        "  n = images.shape[0]\n",
        "  print(\"n=\",n)\n",
        "  nc = int(np.ceil(n / 4))#ceil的意思是获取大于该数的最小整数\n",
        "#   nc的意思是:number of column\n",
        "  f, axes = pyplot.subplots(nc, 4)\n",
        "\n",
        "  print(\"predictions=\",predictions)\n",
        "\n",
        "#   下面这个for循环产生的是每个图的坐标\n",
        "  for i in range(nc * 4):\n",
        "    y = i // 4#取商\n",
        "    x = i % 4#取余数\n",
        "    # i=4*y+x\n",
        "    axes[x, y].axis('off')#关闭所有坐标轴线\n",
        "    \n",
        "    label = LABEL_NAMES[np.argmax(predictions[i])]\n",
        "    #哪一类的概率最大,就认为是哪一类\n",
        "    confidence = np.max(predictions[i])#置信度\n",
        "\n",
        "    print(\"i=\",i)\n",
        "    #下面这个if一般情况下是进不去的\n",
        "    if i > n:\n",
        "      continue\n",
        "    axes[x, y].imshow(images[i])# 显示图片\n",
        "    axes[x, y].text(0.5, 0.5, label + '\\n%.3f' % confidence, fontsize=14)#显示最终的预测信息\n",
        "\n",
        "  pyplot.gcf().set_size_inches(8, 8)  \n",
        "\n",
        "plot_predictions(np.squeeze(x_test[:16]),cpu_model.predict(x_test[:16]))\n",
        "# squeeze的意思是去掉一个张量维度,通常,squeeze去掉的是第一个维度,这里去掉的是samples维度"
      ],
      "execution_count": 19,
      "outputs": [
        {
          "output_type": "stream",
          "text": [
            "images.dim (16, 28, 28, 1)\n",
            "n= 16\n",
            "predictions= [[1.96307953e-11 1.79005699e-09 5.45655925e-12 5.18960500e-11\n",
            "  3.39522403e-11 3.81144059e-06 2.17763585e-11 2.38712528e-06\n",
            "  7.41959050e-10 9.99993801e-01]\n",
            " [3.30372190e-04 1.53862900e-09 9.99650598e-01 8.02747309e-08\n",
            "  1.02141375e-05 5.93606631e-09 8.74055695e-06 4.23723445e-10\n",
            "  3.06908254e-09 5.30010835e-09]\n",
            " [4.84554462e-16 1.00000000e+00 8.57000308e-18 3.51809375e-15\n",
            "  8.07612299e-17 1.82508732e-14 1.59978623e-18 1.14215668e-17\n",
            "  1.23873283e-14 3.51057294e-15]\n",
            " [1.45727587e-13 1.00000000e+00 2.32089590e-15 1.34665044e-12\n",
            "  2.73998963e-14 1.16450447e-12 3.23846170e-15 2.39190449e-14\n",
            "  5.49830689e-13 6.47049081e-12]\n",
            " [3.21322083e-02 1.23721877e-08 4.59819828e-04 8.70906933e-06\n",
            "  1.13600523e-04 6.46502940e-08 9.67285216e-01 7.29158671e-08\n",
            "  9.99559546e-09 1.66196415e-07]\n",
            " [1.02615026e-11 1.00000000e+00 1.97436224e-13 1.39422198e-11\n",
            "  1.99918012e-12 1.62766592e-10 4.00351681e-14 1.37222234e-14\n",
            "  1.60219824e-11 1.43911250e-12]\n",
            " [9.34538548e-07 5.57695046e-08 2.34727212e-03 8.92526018e-08\n",
            "  9.97522652e-01 2.06637429e-10 1.29051463e-04 2.11013308e-11\n",
            "  3.90993737e-10 9.53350066e-10]\n",
            " [5.85445105e-06 2.18708807e-09 2.17407032e-05 6.17438081e-06\n",
            "  1.92949257e-04 1.16858190e-10 9.99773085e-01 1.53542470e-10\n",
            "  1.79318818e-07 2.77057016e-10]\n",
            " [3.14117821e-09 6.29403474e-11 2.65756750e-09 1.68098987e-12\n",
            "  7.76205868e-13 9.99998808e-01 1.31511330e-11 8.44981258e-08\n",
            "  1.04840740e-06 5.10643368e-08]\n",
            " [8.09989742e-10 5.83507187e-10 9.25995836e-10 6.55794530e-10\n",
            "  2.27304092e-10 7.10814618e-07 2.40922594e-11 9.99998569e-01\n",
            "  1.57691776e-10 6.64584718e-07]\n",
            " [1.13935833e-07 5.42558674e-08 3.78277182e-04 1.34053160e-08\n",
            "  9.98934805e-01 4.73845629e-09 6.86700165e-04 6.91010626e-09\n",
            "  1.27745392e-09 4.69076369e-08]\n",
            " [1.79319404e-08 4.75181992e-08 1.34633353e-08 1.06615072e-09\n",
            "  1.45668348e-08 9.99995232e-01 4.62368313e-08 4.00390718e-06\n",
            "  2.39563406e-07 3.41074866e-07]\n",
            " [3.76603595e-07 7.43326791e-06 1.60453180e-06 7.32339413e-06\n",
            "  1.96633636e-07 2.80406386e-01 1.54277998e-07 7.09218144e-01\n",
            "  6.79753860e-03 3.56077938e-03]\n",
            " [1.45948370e-05 1.15229604e-05 2.47707082e-08 9.99968648e-01\n",
            "  1.06728373e-06 1.67927553e-07 3.81030918e-06 1.19745618e-08\n",
            "  3.86829058e-08 6.16662561e-08]\n",
            " [1.80505995e-05 2.93875678e-06 6.91768080e-02 3.26034865e-06\n",
            "  9.22324538e-01 1.46344462e-07 8.46962817e-03 1.26135706e-06\n",
            "  2.56089811e-06 8.17968328e-07]\n",
            " [6.48055698e-12 1.00000000e+00 3.00734047e-13 6.49906587e-11\n",
            "  5.90987285e-12 9.31727525e-12 1.04374365e-12 4.69026619e-13\n",
            "  3.23241108e-13 1.05933637e-10]]\n",
            "i= 0\n",
            "i= 1\n",
            "i= 2\n",
            "i= 3\n",
            "i= 4\n",
            "i= 5\n",
            "i= 6\n",
            "i= 7\n",
            "i= 8\n",
            "i= 9\n",
            "i= 10\n",
            "i= 11\n",
            "i= 12\n",
            "i= 13\n",
            "i= 14\n",
            "i= 15\n"
          ],
          "name": "stdout"
        },
        {
          "output_type": "display_data",
          "data": {
            "image/png": "[encoded data removed]",
            "text/plain": [
              "<Figure size 576x576 with 16 Axes>"
            ]
          },
          "metadata": {
            "tags": []
          }
        }
      ]
    }
  ]
}